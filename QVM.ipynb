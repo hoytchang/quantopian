{
 "cells": [
  {
   "cell_type": "code",
   "execution_count": 4,
   "metadata": {
    "collapsed": true,
    "deletable": true,
    "editable": true
   },
   "outputs": [],
   "source": [
    "# Build a QVM (Quality, Value, Momentum) ranking system and see the returns by decile\n",
    "\n",
    "from quantopian.research import run_pipeline\n",
    "from quantopian.pipeline import Pipeline\n",
    "from quantopian.pipeline.data import Fundamentals\n",
    "from quantopian.pipeline.data.builtin import USEquityPricing\n",
    "from quantopian.pipeline.factors import AverageDollarVolume\n",
    "from quantopian.pipeline.data import morningstar as mstar\n",
    "from quantopian.pipeline.factors import Returns"
   ]
  },
  {
   "cell_type": "code",
   "execution_count": 5,
   "metadata": {
    "collapsed": false,
    "deletable": true,
    "editable": true
   },
   "outputs": [],
   "source": [
    "def min_liq_univ():\n",
    "    # replicate P123 universe \"Minimum Liquidity NO OTC - Copy\"\n",
    "    # for 2005-01-03, this screen returns 3782 stocks.  P123 returns 4260 stocks.\n",
    "    # for 2010-01-04, this screen returns 3543 stocks.  P123 returns 3686 stocks.\n",
    "    # for 2016-01-01, this screen returns 3999 stocks.  P123 returns 3901 stocks.\n",
    "    # for 2018-06-25, this screen returns 4428 stocks.  P123 returns 3894 stocks.\n",
    "    \n",
    "    # markt cap screen\n",
    "    mktcap = Fundamentals.market_cap.latest\n",
    "    mktcap_screen = mktcap > 50000000\n",
    "    \n",
    "    # price screen\n",
    "    price_close = USEquityPricing.close.latest\n",
    "    price_screen = price_close > 1\n",
    "    \n",
    "    # volume screen\n",
    "    dollar_volume = AverageDollarVolume(window_length=20)\n",
    "    volume_screen = dollar_volume > 200000\n",
    "    \n",
    "    # not OTC\n",
    "    not_otc = ~mstar.share_class_reference.exchange_id.latest.startswith('OTC')\n",
    "    \n",
    "    return (mktcap_screen & price_screen & volume_screen & not_otc)\n",
    "    "
   ]
  },
  {
   "cell_type": "code",
   "execution_count": 6,
   "metadata": {
    "collapsed": false,
    "deletable": true,
    "editable": true
   },
   "outputs": [],
   "source": [
    "def make_pipeline():\n",
    "    # get factors\n",
    "    mktcap = Fundamentals.market_cap.latest\n",
    "    price_close = USEquityPricing.close.latest\n",
    "    \n",
    "    # get factors, higher is better\n",
    "    roe = Fundamentals.roe.latest\n",
    "    fcf_yield = Fundamentals.fcf_yield.latest\n",
    "    ret_20 = Returns(window_length = 20)\n",
    "    \n",
    "    # compare built-in valuation ratio with manually calculated\n",
    "    price_close = USEquityPricing.close.latest\n",
    "    fcf_per_share = Fundamentals.fcf_per_share.latest\n",
    "    fcf_yield_manual = fcf_per_share / price_close\n",
    "    \n",
    "    # get ranks, masked by the universe, higher is better\n",
    "    quality = roe.rank(method = 'average', mask = min_liq_univ())\n",
    "    value = fcf_yield.rank(method = 'average', mask = min_liq_univ())\n",
    "    momentum = ret_20.rank(method = 'average', mask = min_liq_univ())\n",
    "    \n",
    "    # combine ranks\n",
    "    qvm = (quality + value + momentum).rank(method = 'average', mask = min_liq_univ())\n",
    "    \n",
    "    return Pipeline(\n",
    "        columns={\n",
    "            'mktcap': mktcap,\n",
    "            'fcf_yield': fcf_yield,\n",
    "            'fcf_yield_manual': fcf_yield_manual,\n",
    "            'roe': roe,\n",
    "            'ret_20': ret_20,\n",
    "            'quality': quality,\n",
    "            'value': value,\n",
    "            'momentum': momentum,\n",
    "            'qvm': qvm\n",
    "        },\n",
    "        screen = min_liq_univ()\n",
    "    )"
   ]
  },
  {
   "cell_type": "code",
   "execution_count": 7,
   "metadata": {
    "collapsed": false,
    "deletable": true,
    "editable": true
   },
   "outputs": [],
   "source": [
    "# Specify a time range to evaluate\n",
    "period_start = '2012-06-25'\n",
    "period_end = '2017-06-25'\n",
    "\n",
    "# Execute pipeline over evaluation period\n",
    "pipeline_output = run_pipeline(\n",
    "    make_pipeline(),\n",
    "    start_date=period_start,\n",
    "    end_date=period_end\n",
    ")"
   ]
  },
  {
   "cell_type": "code",
   "execution_count": 8,
   "metadata": {
    "collapsed": false,
    "deletable": true,
    "editable": true
   },
   "outputs": [
    {
     "name": "stdout",
     "output_type": "stream",
     "text": [
      "quality rank: 1.0 to 4010.0\n",
      "value rank: 1.0 to 4098.0\n",
      "momentum rank: 1.0 to 4116.0\n",
      "qvm rank: 1.0 to 3985.0\n"
     ]
    }
   ],
   "source": [
    "#print('number of stocks: '+ str(len(pipeline_output)))\n",
    "print('quality rank: ' + str(pipeline_output['quality'].min()) + ' to ' + str(pipeline_output['quality'].max()))\n",
    "print('value rank: ' + str(pipeline_output['value'].min()) + ' to ' + str(pipeline_output['value'].max()))\n",
    "print('momentum rank: ' + str(pipeline_output['momentum'].min()) + ' to ' + str(pipeline_output['momentum'].max()))\n",
    "print('qvm rank: ' + str(pipeline_output['qvm'].min()) + ' to ' + str(pipeline_output['qvm'].max()))"
   ]
  },
  {
   "cell_type": "code",
   "execution_count": 9,
   "metadata": {
    "collapsed": false,
    "deletable": true,
    "editable": true
   },
   "outputs": [
    {
     "data": {
      "text/html": [
       "<div>\n",
       "<table border=\"1\" class=\"dataframe\">\n",
       "  <thead>\n",
       "    <tr style=\"text-align: right;\">\n",
       "      <th></th>\n",
       "      <th></th>\n",
       "      <th>fcf_yield</th>\n",
       "      <th>fcf_yield_manual</th>\n",
       "      <th>mktcap</th>\n",
       "      <th>momentum</th>\n",
       "      <th>quality</th>\n",
       "      <th>qvm</th>\n",
       "      <th>ret_20</th>\n",
       "      <th>roe</th>\n",
       "      <th>value</th>\n",
       "    </tr>\n",
       "  </thead>\n",
       "  <tbody>\n",
       "    <tr>\n",
       "      <th rowspan=\"4\" valign=\"top\">2015-06-29 00:00:00+00:00</th>\n",
       "      <th>Equity(19391 [ISLE])</th>\n",
       "      <td>0.1119</td>\n",
       "      <td>0.111910</td>\n",
       "      <td>754757625.0</td>\n",
       "      <td>4037.0</td>\n",
       "      <td>3843.0</td>\n",
       "      <td>3985.0</td>\n",
       "      <td>0.253456</td>\n",
       "      <td>0.129717</td>\n",
       "      <td>3781.0</td>\n",
       "    </tr>\n",
       "    <tr>\n",
       "      <th>Equity(36845 [LINU])</th>\n",
       "      <td>0.2595</td>\n",
       "      <td>0.259434</td>\n",
       "      <td>128158905.0</td>\n",
       "      <td>3846.0</td>\n",
       "      <td>3681.0</td>\n",
       "      <td>3984.0</td>\n",
       "      <td>0.136511</td>\n",
       "      <td>0.077715</td>\n",
       "      <td>4029.0</td>\n",
       "    </tr>\n",
       "    <tr>\n",
       "      <th>Equity(38633 [ASPS])</th>\n",
       "      <td>0.1253</td>\n",
       "      <td>0.125350</td>\n",
       "      <td>632155036.0</td>\n",
       "      <td>3944.0</td>\n",
       "      <td>3752.0</td>\n",
       "      <td>3983.0</td>\n",
       "      <td>0.172955</td>\n",
       "      <td>0.091114</td>\n",
       "      <td>3845.0</td>\n",
       "    </tr>\n",
       "    <tr>\n",
       "      <th>Equity(162 [AEPI])</th>\n",
       "      <td>0.1939</td>\n",
       "      <td>0.194016</td>\n",
       "      <td>283197297.0</td>\n",
       "      <td>3613.0</td>\n",
       "      <td>3879.0</td>\n",
       "      <td>3982.0</td>\n",
       "      <td>0.102106</td>\n",
       "      <td>0.168388</td>\n",
       "      <td>3976.5</td>\n",
       "    </tr>\n",
       "    <tr>\n",
       "      <th>2015-06-30 00:00:00+00:00</th>\n",
       "      <th>Equity(162 [AEPI])</th>\n",
       "      <td>0.1950</td>\n",
       "      <td>0.193667</td>\n",
       "      <td>281666500.0</td>\n",
       "      <td>3924.0</td>\n",
       "      <td>3877.0</td>\n",
       "      <td>3981.0</td>\n",
       "      <td>0.123509</td>\n",
       "      <td>0.168388</td>\n",
       "      <td>3969.0</td>\n",
       "    </tr>\n",
       "  </tbody>\n",
       "</table>\n",
       "</div>"
      ],
      "text/plain": [
       "                                                fcf_yield  fcf_yield_manual  \\\n",
       "2015-06-29 00:00:00+00:00 Equity(19391 [ISLE])     0.1119          0.111910   \n",
       "                          Equity(36845 [LINU])     0.2595          0.259434   \n",
       "                          Equity(38633 [ASPS])     0.1253          0.125350   \n",
       "                          Equity(162 [AEPI])       0.1939          0.194016   \n",
       "2015-06-30 00:00:00+00:00 Equity(162 [AEPI])       0.1950          0.193667   \n",
       "\n",
       "                                                     mktcap  momentum  \\\n",
       "2015-06-29 00:00:00+00:00 Equity(19391 [ISLE])  754757625.0    4037.0   \n",
       "                          Equity(36845 [LINU])  128158905.0    3846.0   \n",
       "                          Equity(38633 [ASPS])  632155036.0    3944.0   \n",
       "                          Equity(162 [AEPI])    283197297.0    3613.0   \n",
       "2015-06-30 00:00:00+00:00 Equity(162 [AEPI])    281666500.0    3924.0   \n",
       "\n",
       "                                                quality     qvm    ret_20  \\\n",
       "2015-06-29 00:00:00+00:00 Equity(19391 [ISLE])   3843.0  3985.0  0.253456   \n",
       "                          Equity(36845 [LINU])   3681.0  3984.0  0.136511   \n",
       "                          Equity(38633 [ASPS])   3752.0  3983.0  0.172955   \n",
       "                          Equity(162 [AEPI])     3879.0  3982.0  0.102106   \n",
       "2015-06-30 00:00:00+00:00 Equity(162 [AEPI])     3877.0  3981.0  0.123509   \n",
       "\n",
       "                                                     roe   value  \n",
       "2015-06-29 00:00:00+00:00 Equity(19391 [ISLE])  0.129717  3781.0  \n",
       "                          Equity(36845 [LINU])  0.077715  4029.0  \n",
       "                          Equity(38633 [ASPS])  0.091114  3845.0  \n",
       "                          Equity(162 [AEPI])    0.168388  3976.5  \n",
       "2015-06-30 00:00:00+00:00 Equity(162 [AEPI])    0.168388  3969.0  "
      ]
     },
     "execution_count": 9,
     "metadata": {},
     "output_type": "execute_result"
    }
   ],
   "source": [
    "pipeline_output.sort_values(by = 'qvm', ascending = False).head(5)"
   ]
  },
  {
   "cell_type": "code",
   "execution_count": 10,
   "metadata": {
    "collapsed": true
   },
   "outputs": [],
   "source": [
    "# Import prices function\n",
    "from quantopian.research import prices\n",
    "\n",
    "# Get list of unique assets from the pipeline output\n",
    "asset_list = pipeline_output.index.levels[1].unique()\n",
    "\n",
    "# Query pricing data for all assets present during\n",
    "# evaluation period\n",
    "asset_prices = prices(\n",
    "    asset_list,\n",
    "    start=period_start,\n",
    "    end=period_end\n",
    ")"
   ]
  },
  {
   "cell_type": "code",
   "execution_count": 11,
   "metadata": {
    "collapsed": false,
    "deletable": true,
    "editable": true
   },
   "outputs": [
    {
     "name": "stdout",
     "output_type": "stream",
     "text": [
      "Dropped 6.9% entries from factor data: 6.9% in forward returns computation and 0.0% in binning phase (set max_loss=0 to see potentially suppressed Exceptions).\n",
      "max_loss is 35.0%, not exceeded: OK!\n"
     ]
    },
    {
     "data": {
      "text/html": [
       "<div>\n",
       "<table border=\"1\" class=\"dataframe\">\n",
       "  <thead>\n",
       "    <tr style=\"text-align: right;\">\n",
       "      <th></th>\n",
       "      <th></th>\n",
       "      <th>1D</th>\n",
       "      <th>5D</th>\n",
       "      <th>11D</th>\n",
       "      <th>factor</th>\n",
       "      <th>factor_quantile</th>\n",
       "    </tr>\n",
       "    <tr>\n",
       "      <th>date</th>\n",
       "      <th>asset</th>\n",
       "      <th></th>\n",
       "      <th></th>\n",
       "      <th></th>\n",
       "      <th></th>\n",
       "      <th></th>\n",
       "    </tr>\n",
       "  </thead>\n",
       "  <tbody>\n",
       "    <tr>\n",
       "      <th rowspan=\"5\" valign=\"top\">2012-06-25 00:00:00+00:00</th>\n",
       "      <th>Equity(2 [ARNC])</th>\n",
       "      <td>-0.001217</td>\n",
       "      <td>0.027367</td>\n",
       "      <td>-0.001217</td>\n",
       "      <td>1676.0</td>\n",
       "      <td>3</td>\n",
       "    </tr>\n",
       "    <tr>\n",
       "      <th>Equity(24 [AAPL])</th>\n",
       "      <td>0.002390</td>\n",
       "      <td>0.038469</td>\n",
       "      <td>0.065518</td>\n",
       "      <td>3273.0</td>\n",
       "      <td>5</td>\n",
       "    </tr>\n",
       "    <tr>\n",
       "      <th>Equity(31 [ABAX])</th>\n",
       "      <td>-0.007636</td>\n",
       "      <td>0.101243</td>\n",
       "      <td>0.098158</td>\n",
       "      <td>2670.0</td>\n",
       "      <td>4</td>\n",
       "    </tr>\n",
       "    <tr>\n",
       "      <th>Equity(39 [DDC])</th>\n",
       "      <td>-0.012402</td>\n",
       "      <td>-0.023926</td>\n",
       "      <td>0.015137</td>\n",
       "      <td>1562.0</td>\n",
       "      <td>3</td>\n",
       "    </tr>\n",
       "    <tr>\n",
       "      <th>Equity(41 [ARCB])</th>\n",
       "      <td>-0.021543</td>\n",
       "      <td>0.016505</td>\n",
       "      <td>-0.037265</td>\n",
       "      <td>1173.0</td>\n",
       "      <td>2</td>\n",
       "    </tr>\n",
       "  </tbody>\n",
       "</table>\n",
       "</div>"
      ],
      "text/plain": [
       "                                                   1D        5D       11D  \\\n",
       "date                      asset                                             \n",
       "2012-06-25 00:00:00+00:00 Equity(2 [ARNC])  -0.001217  0.027367 -0.001217   \n",
       "                          Equity(24 [AAPL])  0.002390  0.038469  0.065518   \n",
       "                          Equity(31 [ABAX]) -0.007636  0.101243  0.098158   \n",
       "                          Equity(39 [DDC])  -0.012402 -0.023926  0.015137   \n",
       "                          Equity(41 [ARCB]) -0.021543  0.016505 -0.037265   \n",
       "\n",
       "                                             factor  factor_quantile  \n",
       "date                      asset                                       \n",
       "2012-06-25 00:00:00+00:00 Equity(2 [ARNC])   1676.0                3  \n",
       "                          Equity(24 [AAPL])  3273.0                5  \n",
       "                          Equity(31 [ABAX])  2670.0                4  \n",
       "                          Equity(39 [DDC])   1562.0                3  \n",
       "                          Equity(41 [ARCB])  1173.0                2  "
      ]
     },
     "execution_count": 11,
     "metadata": {},
     "output_type": "execute_result"
    }
   ],
   "source": [
    "# Import Alphalens\n",
    "import alphalens as al\n",
    "\n",
    "# Get asset forward returns and quantile classification\n",
    "# based on sentiment scores\n",
    "factor_data = al.utils.get_clean_factor_and_forward_returns(\n",
    "    factor=pipeline_output['qvm'],\n",
    "    prices=asset_prices,\n",
    "    quantiles=5,\n",
    "    periods=(1,5,10),\n",
    ")\n",
    "\n",
    "# Display first 5 rows\n",
    "factor_data.head(5)"
   ]
  },
  {
   "cell_type": "code",
   "execution_count": 12,
   "metadata": {
    "collapsed": false
   },
   "outputs": [
    {
     "data": {
      "image/png": "[encoded data removed]",
      "text/plain": [
       "<matplotlib.figure.Figure at 0x7fb2484f6d90>"
      ]
     },
     "metadata": {},
     "output_type": "display_data"
    }
   ],
   "source": [
    "# Calculate mean return by factor quantile\n",
    "mean_return_by_q, std_err_by_q = al.performance.mean_return_by_quantile(factor_data)\n",
    "\n",
    "# Plot mean returns by quantile and holding period\n",
    "# over evaluation time range\n",
    "al.plotting.plot_quantile_returns_bar(\n",
    "    mean_return_by_q.apply(\n",
    "        al.utils.rate_of_return,\n",
    "        axis=0,\n",
    "        args=('1D',)\n",
    "    )\n",
    ");"
   ]
  },
  {
   "cell_type": "code",
   "execution_count": 13,
   "metadata": {
    "collapsed": false
   },
   "outputs": [
    {
     "data": {
      "image/png": "[encoded data removed]",
      "text/plain": [
       "<matplotlib.figure.Figure at 0x7fb243fc0690>"
      ]
     },
     "metadata": {},
     "output_type": "display_data"
    }
   ],
   "source": [
    "# Calculate factor-weighted long-short portfolio returns\n",
    "ls_factor_returns = al.performance.factor_returns(factor_data)\n",
    "\n",
    "# Plot cumulative returns for 5 day holding period\n",
    "al.plotting.plot_cumulative_returns(ls_factor_returns['5D'], '5D');"
   ]
  },
  {
   "cell_type": "code",
   "execution_count": null,
   "metadata": {
    "collapsed": true
   },
   "outputs": [],
   "source": []
  }
 ],
 "metadata": {
  "kernelspec": {
   "display_name": "Python 2",
   "language": "python",
   "name": "python2"
  },
  "language_info": {
   "codemirror_mode": {
    "name": "ipython",
    "version": 2
   },
   "file_extension": ".py",
   "mimetype": "text/x-python",
   "name": "python",
   "nbconvert_exporter": "python",
   "pygments_lexer": "ipython2",
   "version": "2.7.12"
  }
 },
 "nbformat": 4,
 "nbformat_minor": 2
}